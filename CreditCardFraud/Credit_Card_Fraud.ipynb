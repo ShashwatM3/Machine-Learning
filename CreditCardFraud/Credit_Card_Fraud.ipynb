{
  "nbformat": 4,
  "nbformat_minor": 0,
  "metadata": {
    "colab": {
      "name": "Credit Card Fraud.ipynb",
      "provenance": [],
      "authorship_tag": "ABX9TyOq0kkWEJ8holFgQpLFt+is",
      "include_colab_link": true
    },
    "kernelspec": {
      "name": "python3",
      "display_name": "Python 3"
    },
    "language_info": {
      "name": "python"
    }
  },
  "cells": [
    {
      "cell_type": "markdown",
      "metadata": {
        "id": "view-in-github",
        "colab_type": "text"
      },
      "source": [
        "<a href=\"https://colab.research.google.com/github/ShashwatM3/Machine-Learning/blob/main/CreditCardFraud/Credit_Card_Fraud.ipynb\" target=\"_parent\"><img src=\"https://colab.research.google.com/assets/colab-badge.svg\" alt=\"Open In Colab\"/></a>"
      ]
    },
    {
      "cell_type": "markdown",
      "metadata": {
        "id": "_vo8goxb8JbX"
      },
      "source": [
        "Problem\n",
        "_______\n",
        "\n",
        "Almost every business on the rise today has often been exposed to credit card fraud. Credit Card fraud is a growing problem, and it’s one that can do significant damage to your business and its bottom line.\n",
        "\n",
        "Credit Card fraud is like stealing money from 3 different people at the same time. The merchant, the credit card company, and the consumer. After a successful investigation, the fraud will have to cough up the money, but the business is going to look bad for not holding a tighter chain on Credit Card fraud, and their reputation suffers, as well as their sales.\n",
        "\n",
        "***Hence, based upon such opinions, I have decided to create a model that predicts credit card fraud...***"
      ]
    },
    {
      "cell_type": "code",
      "metadata": {
        "id": "P6hWWJflI906"
      },
      "source": [
        "#Importing Libraries\n",
        "import numpy as np\n",
        "import matplotlib.pyplot as plt\n",
        "from sklearn import *\n",
        "import pandas as pd\n",
        "import seaborn as sns\n",
        "from sklearn import datasets\n",
        "from sklearn.cluster import KMeans\n",
        "from sklearn.decomposition import PCA"
      ],
      "execution_count": 2,
      "outputs": []
    },
    {
      "cell_type": "code",
      "metadata": {
        "colab": {
          "base_uri": "https://localhost:8080/"
        },
        "id": "HwY8kGNXKN4E",
        "outputId": "7615f2b2-ee32-421f-edf5-6161c2b5314f"
      },
      "source": [
        "#Reading Data\n",
        "df = pd.read_csv(\"creditcard.csv\")\n",
        "df = df.fillna(0)\n",
        "print(df.head())"
      ],
      "execution_count": 5,
      "outputs": [
        {
          "output_type": "stream",
          "text": [
            "   Time        V1        V2        V3  ...       V27       V28  Amount  Class\n",
            "0     0 -1.359807 -0.072781  2.536347  ...  0.133558 -0.021053  149.62    0.0\n",
            "1     0  1.191857  0.266151  0.166480  ... -0.008983  0.014724    2.69    0.0\n",
            "2     1 -1.358354 -1.340163  1.773209  ... -0.055353 -0.059752  378.66    0.0\n",
            "3     1 -0.966272 -0.185226  1.792993  ...  0.062723  0.061458  123.50    0.0\n",
            "4     2 -1.158233  0.877737  1.548718  ...  0.219422  0.215153   69.99    0.0\n",
            "\n",
            "[5 rows x 31 columns]\n"
          ],
          "name": "stdout"
        }
      ]
    },
    {
      "cell_type": "code",
      "metadata": {
        "colab": {
          "base_uri": "https://localhost:8080/"
        },
        "id": "vN2YE-g7KUVz",
        "outputId": "c953887c-a548-4a62-81aa-b7ce01eb4233"
      },
      "source": [
        "#Exploring the Dataset\n",
        "print(df.describe())\n",
        "print()\n",
        "print(df.info())"
      ],
      "execution_count": 6,
      "outputs": [
        {
          "output_type": "stream",
          "text": [
            "              Time           V1  ...       Amount        Class\n",
            "count  1986.000000  1986.000000  ...  1986.000000  1986.000000\n",
            "mean    761.035750    -0.284195  ...    68.567925     0.001007\n",
            "std     451.034025     1.353508  ...   241.621039     0.031726\n",
            "min       0.000000   -11.140706  ...     0.000000     0.000000\n",
            "25%     366.000000    -1.045512  ...     4.950000     0.000000\n",
            "50%     750.000000    -0.437621  ...    15.085000     0.000000\n",
            "75%    1161.000000     1.095047  ...    63.467500     0.000000\n",
            "max    1526.000000     1.685314  ...  7712.430000     1.000000\n",
            "\n",
            "[8 rows x 31 columns]\n",
            "\n",
            "<class 'pandas.core.frame.DataFrame'>\n",
            "RangeIndex: 1986 entries, 0 to 1985\n",
            "Data columns (total 31 columns):\n",
            " #   Column  Non-Null Count  Dtype  \n",
            "---  ------  --------------  -----  \n",
            " 0   Time    1986 non-null   int64  \n",
            " 1   V1      1986 non-null   float64\n",
            " 2   V2      1986 non-null   float64\n",
            " 3   V3      1986 non-null   float64\n",
            " 4   V4      1986 non-null   float64\n",
            " 5   V5      1986 non-null   float64\n",
            " 6   V6      1986 non-null   float64\n",
            " 7   V7      1986 non-null   float64\n",
            " 8   V8      1986 non-null   float64\n",
            " 9   V9      1986 non-null   float64\n",
            " 10  V10     1986 non-null   float64\n",
            " 11  V11     1986 non-null   float64\n",
            " 12  V12     1986 non-null   float64\n",
            " 13  V13     1986 non-null   float64\n",
            " 14  V14     1986 non-null   float64\n",
            " 15  V15     1986 non-null   float64\n",
            " 16  V16     1986 non-null   float64\n",
            " 17  V17     1986 non-null   float64\n",
            " 18  V18     1986 non-null   float64\n",
            " 19  V19     1986 non-null   float64\n",
            " 20  V20     1986 non-null   float64\n",
            " 21  V21     1986 non-null   float64\n",
            " 22  V22     1986 non-null   float64\n",
            " 23  V23     1986 non-null   float64\n",
            " 24  V24     1986 non-null   float64\n",
            " 25  V25     1986 non-null   float64\n",
            " 26  V26     1986 non-null   float64\n",
            " 27  V27     1986 non-null   float64\n",
            " 28  V28     1986 non-null   float64\n",
            " 29  Amount  1986 non-null   float64\n",
            " 30  Class   1986 non-null   float64\n",
            "dtypes: float64(30), int64(1)\n",
            "memory usage: 481.1 KB\n",
            "None\n"
          ],
          "name": "stdout"
        }
      ]
    },
    {
      "cell_type": "code",
      "metadata": {
        "colab": {
          "base_uri": "https://localhost:8080/"
        },
        "id": "a4RNuVz8KdcA",
        "outputId": "20cca575-dac1-4d9f-f856-3b956a4e1f54"
      },
      "source": [
        "cols = list(df.columns.values)\n",
        "print(cols)"
      ],
      "execution_count": 7,
      "outputs": [
        {
          "output_type": "stream",
          "text": [
            "['Time', 'V1', 'V2', 'V3', 'V4', 'V5', 'V6', 'V7', 'V8', 'V9', 'V10', 'V11', 'V12', 'V13', 'V14', 'V15', 'V16', 'V17', 'V18', 'V19', 'V20', 'V21', 'V22', 'V23', 'V24', 'V25', 'V26', 'V27', 'V28', 'Amount', 'Class']\n"
          ],
          "name": "stdout"
        }
      ]
    },
    {
      "cell_type": "code",
      "metadata": {
        "colab": {
          "base_uri": "https://localhost:8080/",
          "height": 310
        },
        "id": "dOV0Noc3KnoM",
        "outputId": "18304a68-94b8-4266-cf79-3a6af03012e3"
      },
      "source": [
        "#Analytical Study of Features Correlation of the Data\n",
        "plt.title('Credit Card Transactions features correlation plot')\n",
        "corr = df.corr()\n",
        "sns.heatmap(corr,xticklabels=corr.columns,yticklabels=corr.columns,linewidths=.1,cmap=\"Reds\")\n",
        "plt.show()"
      ],
      "execution_count": 8,
      "outputs": [
        {
          "output_type": "display_data",
          "data": {
            "image/png": "[encoded data removed]",
            "text/plain": [
              "<Figure size 432x288 with 2 Axes>"
            ]
          },
          "metadata": {
            "tags": [],
            "needs_background": "light"
          }
        }
      ]
    },
    {
      "cell_type": "code",
      "metadata": {
        "colab": {
          "base_uri": "https://localhost:8080/",
          "height": 281
        },
        "id": "LJN6j1B9K5jL",
        "outputId": "8d7ea9b0-2bb0-4e4d-9321-2ef0ee870879"
      },
      "source": [
        "pca = PCA(2)\n",
        " \n",
        "#Transform the data\n",
        "df = pca.fit_transform(df)\n",
        "\n",
        "# Declaring Model\n",
        "model = KMeans(n_clusters=2)\n",
        "\n",
        "# Fitting Model\n",
        "model.fit(df)\n",
        "\n",
        "# Prediction on the entire data\n",
        "label = model.predict(df)\n",
        "\n",
        "u_labels = np.unique(label)\n",
        " \n",
        "#Getting the Centroids\n",
        "centroids = model.cluster_centers_\n",
        "u_labels = np.unique(label)\n",
        "\n",
        "#plotting the results:\n",
        "for i in u_labels:\n",
        "    plt.scatter(df[label == i , 0] , df[label == i , 1] , label = i)\n",
        "plt.scatter(centroids[:,0] , centroids[:,1] , s = 80, color = 'black')\n",
        "plt.legend()\n",
        "plt.title(\"Classification of Credit Card Fraud Predictions\")\n",
        "plt.show()"
      ],
      "execution_count": 10,
      "outputs": [
        {
          "output_type": "display_data",
          "data": {
            "image/png": "[encoded data removed]",
            "text/plain": [
              "<Figure size 432x288 with 1 Axes>"
            ]
          },
          "metadata": {
            "tags": [],
            "needs_background": "light"
          }
        }
      ]
    }
  ]
}